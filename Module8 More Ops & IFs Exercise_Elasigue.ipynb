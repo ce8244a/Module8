{
 "cells": [
  {
   "cell_type": "markdown",
   "metadata": {},
   "source": [
    "### Exercise 1\n",
    "Ask for an exam score and store that number. If the number is greater than 100, then print out 'You cannot have an exam score higher than 100'. If the number doesn't exceeed 100 but is greater than or equal to 75, then print out 'You did great on your exam!'. Otherwise if they scored lower than 75, then print out 'You need to study harder'."
   ]
  },
  {
   "cell_type": "code",
   "execution_count": 1,
   "metadata": {},
   "outputs": [],
   "source": [
    "def exam_score(score) :\n",
    "    if score > 100  :\n",
    "        print(\"You cannot have an exam score higher than 100\")\n",
    "    elif score >= 75:\n",
    "        print(\"You did great on your exam!\")   \n",
    "    else :\n",
    "        print(\"You need to study harder\")\n",
    "        \n",
    "    return "
   ]
  },
  {
   "cell_type": "code",
   "execution_count": 2,
   "metadata": {},
   "outputs": [
    {
     "name": "stdout",
     "output_type": "stream",
     "text": [
      "Enter your exam score: 85\n",
      "You did great on your exam!\n"
     ]
    }
   ],
   "source": [
    "grade = float(input(\"Enter your exam score: \"))\n",
    "exam_score(grade)"
   ]
  },
  {
   "cell_type": "markdown",
   "metadata": {},
   "source": [
    "### Exercise 2\n",
    "Ask a user to enter two numbers and find their average. Then, print out the average and whether each number is below or above average. Determine if a function should be created or not.\n",
    "    "
   ]
  },
  {
   "cell_type": "code",
   "execution_count": 3,
   "metadata": {},
   "outputs": [
    {
     "name": "stdout",
     "output_type": "stream",
     "text": [
      "Enter two scores separated by a comma: 85.5, 75\n",
      "The average is 80.25\n",
      "80 is above the average\n"
     ]
    }
   ],
   "source": [
    "average = 80\n",
    "\n",
    "def above_below(average):\n",
    "    if average >=80:\n",
    "        print(f\"{average:.0f} is above the average\")\n",
    "    elif average <80:\n",
    "        print(f\"{average:.0f} is below the average\")\n",
    "    else:\n",
    "        print\n",
    "    return\n",
    "\n",
    "num1, num2 = input(\"Enter two scores separated by a comma: \").split(\",\")\n",
    "average = (float(num1) + float(num2)) / 2.0\n",
    "print(f\"The average is {average}\")\n",
    "above_below(average)\n"
   ]
  },
  {
   "cell_type": "markdown",
   "metadata": {},
   "source": [
    "### Exercise 3\n",
    "Write a function to convert a test score to a grade where  \n",
    " - 90 - 100: A\n",
    " - 80 - 89:  B\n",
    " - 70 - 79:  C\n",
    " - 60 - 69:  D\n",
    " - < 60   :  F\n",
    " \n",
    "If a score is not between 0 and 100 then print out an error message. In the program, ask the user for a score and then call your function. "
   ]
  },
  {
   "cell_type": "code",
   "execution_count": 4,
   "metadata": {},
   "outputs": [],
   "source": [
    "def test_score(score) :\n",
    "    if score <=0 or score >=101:\n",
    "        print(\"Error: Please enter an number between 0 - 100\")\n",
    "    elif score >=90:\n",
    "        print(\"Awesome! Letter score: A\")    \n",
    "    elif score >=80:\n",
    "        print(\"Average. Letter score: B\")\n",
    "    elif score >=70:\n",
    "         print(\"Okay. Letter score: C\")\n",
    "    elif score >= 60:\n",
    "         print(\"Do Better. Letter score: D\")\n",
    "    elif score <=60:\n",
    "         print(\"WTH! Letter score: F\")\n",
    "    else:\n",
    "        print"
   ]
  },
  {
   "cell_type": "code",
   "execution_count": 5,
   "metadata": {},
   "outputs": [
    {
     "name": "stdout",
     "output_type": "stream",
     "text": [
      "Enter a test score:101\n",
      "Error: Please enter an number between 0 - 100\n"
     ]
    }
   ],
   "source": [
    "entered_score = int(input(\"Enter a test score:\"))\n",
    "test_score(entered_score)"
   ]
  },
  {
   "cell_type": "code",
   "execution_count": 6,
   "metadata": {},
   "outputs": [
    {
     "name": "stdout",
     "output_type": "stream",
     "text": [
      "Enter a test score:80\n",
      "Average. Letter score: B\n"
     ]
    }
   ],
   "source": [
    "entered_score = int(input(\"Enter a test score:\"))\n",
    "test_score(entered_score)"
   ]
  },
  {
   "cell_type": "markdown",
   "metadata": {},
   "source": [
    "### Exercise 4\n",
    "Convert following decimal number to a binary number by hand:\n",
    "\n",
    "    61\n",
    "    15\n",
    "    71\n",
    "    "
   ]
  },
  {
   "cell_type": "code",
   "execution_count": 7,
   "metadata": {},
   "outputs": [
    {
     "name": "stdout",
     "output_type": "stream",
     "text": [
      "61\n"
     ]
    }
   ],
   "source": [
    "#61\n",
    "\n",
    "#2/61 = 1\n",
    "#2/30 = 0\n",
    "#2/15 = 1\n",
    "#2/7 = 1\n",
    "#2/3 = 1\n",
    "#2/1 = 1\n",
    "\n",
    "print(0b111101)"
   ]
  },
  {
   "cell_type": "code",
   "execution_count": 8,
   "metadata": {},
   "outputs": [
    {
     "name": "stdout",
     "output_type": "stream",
     "text": [
      "15\n"
     ]
    }
   ],
   "source": [
    "#15\n",
    "\n",
    "#2/15 = 1\n",
    "#2/7 = 1\n",
    "#2/3 = 1\n",
    "#2/1 = 1\n",
    "\n",
    "print(0b1111)"
   ]
  },
  {
   "cell_type": "code",
   "execution_count": 9,
   "metadata": {},
   "outputs": [
    {
     "name": "stdout",
     "output_type": "stream",
     "text": [
      "71\n"
     ]
    }
   ],
   "source": [
    "#71\n",
    "\n",
    "#2/71 = 1\n",
    "#2/35 = 1\n",
    "#2/17 = 1\n",
    "#2/8 = 0\n",
    "#2/4 = 0\n",
    "#2/2 = 0\n",
    "#1/2 = 1\n",
    "\n",
    "print(0b1000111)"
   ]
  },
  {
   "cell_type": "markdown",
   "metadata": {},
   "source": [
    "### Exercise 5\n",
    "When a = 61 and b = 15, what is the result of following bitwise opertion? Use inline comments to show your result in a binary number. Find your answer by hand.\n",
    "\n",
    "    a & b\n",
    "    a | b\n",
    "    a ^ b\n",
    "    a >> 2\n",
    "    "
   ]
  },
  {
   "cell_type": "code",
   "execution_count": 10,
   "metadata": {},
   "outputs": [
    {
     "name": "stdout",
     "output_type": "stream",
     "text": [
      "13\n"
     ]
    },
    {
     "data": {
      "text/plain": [
       "13"
      ]
     },
     "execution_count": 10,
     "metadata": {},
     "output_type": "execute_result"
    }
   ],
   "source": [
    "a = 61\n",
    "b = 15\n",
    "# a = 0b 0011 1101\n",
    "# b = 0b 0000 1111\n",
    "#     0b 0000 1101 - both numbers are 1 we get 1, otherwise it's 0\n",
    "\n",
    "print(0b00001101)\n",
    "\n",
    "a & b"
   ]
  },
  {
   "cell_type": "code",
   "execution_count": 11,
   "metadata": {},
   "outputs": [
    {
     "name": "stdout",
     "output_type": "stream",
     "text": [
      "63\n"
     ]
    },
    {
     "data": {
      "text/plain": [
       "63"
      ]
     },
     "execution_count": 11,
     "metadata": {},
     "output_type": "execute_result"
    }
   ],
   "source": [
    "a = 61\n",
    "b = 15\n",
    "\n",
    "# a = 0b 0011 1101\n",
    "# b = 0b 0000 1111\n",
    "#     0b 0011 1111 - if one of numbers is 1, then we get 1\n",
    "\n",
    "print(0b00111111) \n",
    "a | b"
   ]
  },
  {
   "cell_type": "code",
   "execution_count": 12,
   "metadata": {},
   "outputs": [
    {
     "name": "stdout",
     "output_type": "stream",
     "text": [
      "50\n"
     ]
    },
    {
     "data": {
      "text/plain": [
       "50"
      ]
     },
     "execution_count": 12,
     "metadata": {},
     "output_type": "execute_result"
    }
   ],
   "source": [
    "a = 61\n",
    "b = 15\n",
    "\n",
    "# a = 0b 0011 1101\n",
    "# b = 0b 0000 1111\n",
    "#     0b 0011 0010 - if one of numbers is 1, but not both, then we get 1\n",
    "\n",
    "print(0b00110010)\n",
    "a ^ b"
   ]
  },
  {
   "cell_type": "code",
   "execution_count": 13,
   "metadata": {},
   "outputs": [
    {
     "name": "stdout",
     "output_type": "stream",
     "text": [
      "15\n"
     ]
    },
    {
     "data": {
      "text/plain": [
       "15"
      ]
     },
     "execution_count": 13,
     "metadata": {},
     "output_type": "execute_result"
    }
   ],
   "source": [
    "a = 61\n",
    "\n",
    "\n",
    "# a = 0b 0011 1101\n",
    "# a = 0b 0011 11   - push number to the right by 2\n",
    "\n",
    "print(0b001111)\n",
    "a >> 2"
   ]
  }
 ],
 "metadata": {
  "kernelspec": {
   "display_name": "Python 3",
   "language": "python",
   "name": "python3"
  },
  "language_info": {
   "codemirror_mode": {
    "name": "ipython",
    "version": 3
   },
   "file_extension": ".py",
   "mimetype": "text/x-python",
   "name": "python",
   "nbconvert_exporter": "python",
   "pygments_lexer": "ipython3",
   "version": "3.8.5"
  }
 },
 "nbformat": 4,
 "nbformat_minor": 4
}
